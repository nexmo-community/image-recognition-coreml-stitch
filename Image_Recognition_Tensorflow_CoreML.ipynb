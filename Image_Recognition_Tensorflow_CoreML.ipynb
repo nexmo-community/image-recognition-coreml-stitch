{
  "nbformat": 4,
  "nbformat_minor": 0,
  "metadata": {
    "colab": {
      "name": "Image Recognition - Tensorflow / CoreML.ipynb",
      "version": "0.3.2",
      "provenance": [],
      "collapsed_sections": [],
      "toc_visible": true
    },
    "kernelspec": {
      "name": "python3",
      "display_name": "Python 3"
    },
    "accelerator": "GPU"
  },
  "cells": [
    {
      "metadata": {
        "id": "D_tG7dsh0QsF",
        "colab_type": "text"
      },
      "cell_type": "markdown",
      "source": [
        "# Intro"
      ]
    },
    {
      "metadata": {
        "id": "e-rxun5qXCvH",
        "colab_type": "text"
      },
      "cell_type": "markdown",
      "source": [
        "For the following, we are going to build a basic image reconigition model to be used in a Stitch IOS app\n",
        "We will use the  [CIFAIR-10](https://www.cs.toronto.edu/~kriz/cifar.html) dataset for training.\n",
        "\n",
        "This dataset contains images in 10 classes, with 6000 images per class.\n",
        "\n",
        "Its a well used dataset for Machine Learning, and it will be a good start for our project.\n",
        "\n",
        "Since the dataset is fairly small, we can train the model locally. \n",
        "\n",
        "Note, this notebook is currently being hosted on Google Colab. But you should be able to download this notebook, create a virtual enviorment using virtualenv or anaconda.\n",
        "\n",
        "You will need to install the following packages:\n",
        "\n",
        "\n",
        "```\n",
        "tensorflow\n",
        "matplotlib\n",
        "numpy\n",
        "coremltools\n",
        "\n",
        "```"
      ]
    },
    {
      "metadata": {
        "id": "X5QaMahPWAnG",
        "colab_type": "text"
      },
      "cell_type": "markdown",
      "source": [
        "# Running this notenook"
      ]
    },
    {
      "metadata": {
        "id": "kSU76Me2WIPU",
        "colab_type": "text"
      },
      "cell_type": "markdown",
      "source": [
        "This notebook is currently being hosted on [Google Colab](https://colab.research.google.com). Colaboratory is a free Jupyter notebook environment that requires no setup and runs entirely in the cloud\n",
        "\n",
        "You can view the notebook and run the code [here](https://colab.research.google.com/github/tbass134/colab_notebooks/blob/master/Image_Recognition_Tensorflow_CoreML.ipynb)"
      ]
    },
    {
      "metadata": {
        "id": "LnKvGq42Ybs2",
        "colab_type": "text"
      },
      "cell_type": "markdown",
      "source": [
        "# Building out the Model"
      ]
    },
    {
      "metadata": {
        "id": "xuZFgrFjXTOp",
        "colab_type": "text"
      },
      "cell_type": "markdown",
      "source": [
        "First thing we need to do is to import our packages\n"
      ]
    },
    {
      "metadata": {
        "id": "31G4vI2XXYnC",
        "colab_type": "code",
        "colab": {}
      },
      "cell_type": "code",
      "source": [
        "import tensorflow as tf\n",
        "from tensorflow import keras\n",
        "import matplotlib.pyplot as plt\n",
        "import numpy as np"
      ],
      "execution_count": 0,
      "outputs": []
    },
    {
      "metadata": {
        "id": "dWzsH7Gkdi8N",
        "colab_type": "text"
      },
      "cell_type": "markdown",
      "source": [
        "Notice, were using Keras as a backend for Tensorflow.\n",
        "Keras is a great framework that allows you to build models easier, without having to use the more verbose methods in Tensorflow. More information about Keras is [here](https://www.tensorflow.org/guide/keras): "
      ]
    },
    {
      "metadata": {
        "id": "DXYThnXaaYkW",
        "colab_type": "text"
      },
      "cell_type": "markdown",
      "source": [
        "Next, we'll load the CIFAR dataset. Using Keras, we're able to download the dataset very easily.\n",
        "\n",
        "We split the dataset into 2 groups, one for training `(x_train, y_train)`, the other for testing `(x_test, y_test)`. \n",
        "\n",
        "Splitting the data set allows the model to learn from the training set, then, when we test the model, we want to see how well it learned, by using the test set. This will give us our accuracy, or, how we'll the model did."
      ]
    },
    {
      "metadata": {
        "id": "H6hioSlLX-KU",
        "colab_type": "code",
        "colab": {
          "base_uri": "https://localhost:8080/",
          "height": 1020
        },
        "outputId": "f138575f-f24e-4a10-95ab-fb19830402c4"
      },
      "cell_type": "code",
      "source": [
        "from keras.datasets import cifar10\n",
        "\n",
        "(x_train, y_train), (x_test, y_test) = cifar10.load_data()\n",
        "print('x_train shape:', x_train.shape)\n",
        "print(x_train.shape[0], 'train samples')\n",
        "\n",
        "print('y_train shape', y_train.shape)\n",
        "print(x_test.shape[0], 'test samples')\n",
        "\n",
        "print('x_test shape', x_test.shape)\n",
        "print(y_test.shape[0], 'test samples')\n"
      ],
      "execution_count": 2,
      "outputs": [
        {
          "output_type": "stream",
          "text": [
            "Using TensorFlow backend.\n"
          ],
          "name": "stderr"
        },
        {
          "output_type": "stream",
          "text": [
            "Downloading data from https://www.cs.toronto.edu/~kriz/cifar-10-python.tar.gz\n",
            "170500096/170498071 [==============================] - 46s 0us/step\n",
            "x_train shape: (50000, 32, 32, 3)\n",
            "50000 train samples\n",
            "y_train shape (50000, 1)\n",
            "10000 test samples\n",
            "x_test shape (10000, 32, 32, 3)\n",
            "10000 test samples\n"
          ],
          "name": "stdout"
        }
      ]
    },
    {
      "metadata": {
        "id": "VsFtm_ODPzex",
        "colab_type": "text"
      },
      "cell_type": "markdown",
      "source": [
        "Next, we'll declair some constants\n",
        "`batch_size` is the number of samples that going to be propagated through the network. \n",
        "\n",
        "`epochs` are how many times we train on the full dataset\n",
        "\n",
        "`class_names` is a list of all the possible lables in the CIFAR-10 dataset.\n",
        "We'll use this later, when coverting our model into CoreML"
      ]
    },
    {
      "metadata": {
        "id": "aGptaSCu8Qj2",
        "colab_type": "code",
        "colab": {}
      },
      "cell_type": "code",
      "source": [
        "# Declare variables\n",
        "batch_size = 32 \n",
        "# 32 examples in a mini-batch, smaller batch size means more updates in one epoch\n",
        "epochs = 100\n",
        "class_names = [\"airplane\",\"automobile\",\"bird\",\"cat\",\"deer\",\"dog\",\"frog\",\"horse\",\"ship\",\"truck\"]"
      ],
      "execution_count": 0,
      "outputs": []
    },
    {
      "metadata": {
        "id": "PIQ3hprb7_fV",
        "colab_type": "code",
        "colab": {}
      },
      "cell_type": "code",
      "source": [
        "def plot_images(x, y, number_of_images=5):\n",
        "  fig, axes1 = plt.subplots(number_of_images,number_of_images,figsize=(10,10))\n",
        "  for j in range(number_of_images):\n",
        "      for k in range(number_of_images):\n",
        "          i = np.random.choice(range(len(x)))\n",
        "          title = class_names[y[i:i+1][0][0]]\n",
        "          axes1[j][k].title.set_text(title)\n",
        "          axes1[j][k].set_axis_off()\n",
        "          axes1[j][k].imshow(x[i:i+1][0])        "
      ],
      "execution_count": 0,
      "outputs": []
    },
    {
      "metadata": {
        "id": "mL4y0R5a1lQt",
        "colab_type": "text"
      },
      "cell_type": "markdown",
      "source": [
        "First, lets have a look at the images.\n",
        "We have a function that plots a series of images and their corresponding label"
      ]
    },
    {
      "metadata": {
        "id": "OSqihPKPDmaA",
        "colab_type": "code",
        "colab": {
          "base_uri": "https://localhost:8080/",
          "height": 606
        },
        "outputId": "ab4e90b9-ed73-4836-8485-bf612696c161"
      },
      "cell_type": "code",
      "source": [
        "plot_images(x_train, y_train, number_of_images=2)"
      ],
      "execution_count": 66,
      "outputs": [
        {
          "output_type": "display_data",
          "data": {
            "image/png": "[encoded data removed]",
            "text/plain": [
              "<matplotlib.figure.Figure at 0x7fa809794208>"
            ]
          },
          "metadata": {
            "tags": []
          }
        }
      ]
    },
    {
      "metadata": {
        "id": "ldpPL_D3alSR",
        "colab_type": "text"
      },
      "cell_type": "markdown",
      "source": [
        "Now, we'll setup a simple model. You don't need to understand everthing going on here. But what we are basiclly doing is creating a deep neural network using a few convolutions, dropout, and max pooling\n",
        "\n",
        "At the end, we'll flatten the network and use Relu, followed by a Softmax. \n",
        "This will give us a vector (1-dimenstion matrix), filled with mostly 0's\n",
        "\n",
        "It will look like this\n",
        "\n",
        "```\n",
        "[0,0,0,0,0,0,1,0,0,0]\n",
        "```\n",
        "\n",
        "This vector corrsponds to the given label from the image\n",
        "So in this example, the `1` in the 7'th place would be a frog, since 'frog' is at the 7th place in `class_names` list\n",
        "\n",
        "---\n",
        "\n",
        "The following shows the entire network."
      ]
    },
    {
      "metadata": {
        "id": "mGv6JeG7YmZL",
        "colab_type": "code",
        "colab": {}
      },
      "cell_type": "code",
      "source": [
        "model = tf.keras.Sequential()\n",
        "\n",
        "model.add(tf.keras.layers.Conv2D(32, kernel_size=(3, 3), activation='relu', input_shape=(32, 32, 3)))\n",
        "model.add(tf.keras.layers.Conv2D(64, kernel_size=(3, 3), activation='relu'))\n",
        "model.add(tf.keras.layers.MaxPooling2D(pool_size=(2, 2)))\n",
        "model.add(tf.keras.layers.Dropout(0.25))\n",
        "\n",
        "model.add(tf.keras.layers.Conv2D(128, kernel_size=(3, 3), activation='relu'))\n",
        "model.add(tf.keras.layers.MaxPooling2D(pool_size=(2, 2)))\n",
        "model.add(tf.keras.layers.Conv2D(128, kernel_size=(3, 3), activation='relu'))\n",
        "model.add(tf.keras.layers.MaxPooling2D(pool_size=(2, 2)))\n",
        "model.add(tf.keras.layers.Dropout(0.25))\n",
        "\n",
        "model.add(tf.keras.layers.Flatten())\n",
        "model.add(tf.keras.layers.Dense(1024, activation='relu'))\n",
        "model.add(tf.keras.layers.Dropout(0.5))\n",
        "model.add(tf.keras.layers.Dense(10, activation='softmax'))"
      ],
      "execution_count": 0,
      "outputs": []
    },
    {
      "metadata": {
        "id": "Fi-HoS6X3Baa",
        "colab_type": "text"
      },
      "cell_type": "markdown",
      "source": [
        "That's it! "
      ]
    },
    {
      "metadata": {
        "id": "WBR89DlwZURX",
        "colab_type": "text"
      },
      "cell_type": "markdown",
      "source": [
        "# Training The Model"
      ]
    },
    {
      "metadata": {
        "id": "Usmc-ST7nX0D",
        "colab_type": "text"
      },
      "cell_type": "markdown",
      "source": [
        "First we compile the model to get its loss.\n",
        "The loss is a measure of how well the model did during testing. A high loss, means that the model did poorly. \n",
        "\n",
        "We'll use the Adam Optimizer to calucate the loss. You can learn more about Optimizers in keras [here](https://keras.io/optimizers/)\n",
        "\n",
        "Then we'll call `.fit` which will train the model for 100 epochs. This means that the full training dataset will trained 100 times,\n",
        "The `batch_size` of 32 is the number samples that going to be propagated through the network\n",
        "\n",
        "We then see how well it did after every echo using `model.evaluate`\n",
        "It gives us a score for the model (higher numbers are better) and the loss (lower numbers are better)\n",
        "\n",
        "---\n",
        "\n",
        "Note, this took about 15 minutes  running on Colab. If you just wants to see the results quicker, just set the `epochs` parameter to 1 or 2. Its accuracy wont be as good, however.\n",
        "\n"
      ]
    },
    {
      "metadata": {
        "id": "8V6jjkCyaxQJ",
        "colab_type": "code",
        "colab": {
          "base_uri": "https://localhost:8080/",
          "height": 3505
        },
        "outputId": "fef46107-872e-4278-de8f-1f9c3bb93aed"
      },
      "cell_type": "code",
      "source": [
        "# Compile the model\n",
        "model.compile(loss='categorical_crossentropy',\n",
        "              optimizer=tf.keras.optimizers.Adam(lr=0.0001, decay=1e-6),\n",
        "              metrics=['accuracy'])\n",
        "\n",
        "# Train the model\n",
        "model.fit(x_train / 255.0, tf.keras.utils.to_categorical(y_train),\n",
        "          batch_size=batch_size,\n",
        "          shuffle=True,\n",
        "          epochs=epochs,\n",
        "          validation_data=(x_test / 255.0, tf.keras.utils.to_categorical(y_test))\n",
        "          )\n",
        "\n",
        "# Evaluate the model\n",
        "scores = model.evaluate(x_test / 255.0, tf.keras.utils.to_categorical(y_test))\n",
        "\n",
        "print('Loss: %.3f' % scores[0])\n",
        "print('Accuracy: %.3f' % scores[1])"
      ],
      "execution_count": 70,
      "outputs": [
        {
          "output_type": "stream",
          "text": [
            "Train on 50000 samples, validate on 10000 samples\n",
            "Epoch 1/100\n",
            "50000/50000 [==============================] - 32s 641us/step - loss: 1.6316 - acc: 0.3976 - val_loss: 1.4677 - val_acc: 0.4692\n",
            "Epoch 2/100\n",
            "50000/50000 [==============================] - 32s 632us/step - loss: 1.4277 - acc: 0.4804 - val_loss: 1.2824 - val_acc: 0.5430\n",
            "Epoch 3/100\n",
            "50000/50000 [==============================] - 31s 619us/step - loss: 1.2916 - acc: 0.5360 - val_loss: 1.1822 - val_acc: 0.5742\n",
            "Epoch 4/100\n",
            "50000/50000 [==============================] - 31s 620us/step - loss: 1.1982 - acc: 0.5716 - val_loss: 1.0952 - val_acc: 0.6105\n",
            "Epoch 5/100\n",
            "50000/50000 [==============================] - 31s 619us/step - loss: 1.1240 - acc: 0.6007 - val_loss: 1.0197 - val_acc: 0.6409\n",
            "Epoch 6/100\n",
            "50000/50000 [==============================] - 31s 621us/step - loss: 1.0665 - acc: 0.6242 - val_loss: 0.9897 - val_acc: 0.6535\n",
            "Epoch 7/100\n",
            "50000/50000 [==============================] - 31s 620us/step - loss: 1.0082 - acc: 0.6477 - val_loss: 0.9433 - val_acc: 0.6662\n",
            "Epoch 8/100\n",
            "50000/50000 [==============================] - 31s 617us/step - loss: 0.9656 - acc: 0.6605 - val_loss: 0.8940 - val_acc: 0.6801\n",
            "Epoch 9/100\n",
            "50000/50000 [==============================] - 31s 617us/step - loss: 0.9181 - acc: 0.6779 - val_loss: 0.8740 - val_acc: 0.6936\n",
            "Epoch 10/100\n",
            "50000/50000 [==============================] - 31s 618us/step - loss: 0.8834 - acc: 0.6910 - val_loss: 0.8412 - val_acc: 0.7033\n",
            "Epoch 11/100\n",
            "50000/50000 [==============================] - 31s 618us/step - loss: 0.8501 - acc: 0.7038 - val_loss: 0.8080 - val_acc: 0.7217\n",
            "Epoch 12/100\n",
            "50000/50000 [==============================] - 31s 618us/step - loss: 0.8191 - acc: 0.7129 - val_loss: 0.8048 - val_acc: 0.7182\n",
            "Epoch 13/100\n",
            "50000/50000 [==============================] - 31s 620us/step - loss: 0.7934 - acc: 0.7236 - val_loss: 0.7577 - val_acc: 0.7328\n",
            "Epoch 14/100\n",
            "50000/50000 [==============================] - 31s 620us/step - loss: 0.7647 - acc: 0.7327 - val_loss: 0.7651 - val_acc: 0.7302\n",
            "Epoch 15/100\n",
            "50000/50000 [==============================] - 31s 616us/step - loss: 0.7389 - acc: 0.7412 - val_loss: 0.7262 - val_acc: 0.7489\n",
            "Epoch 16/100\n",
            "50000/50000 [==============================] - 31s 618us/step - loss: 0.7144 - acc: 0.7485 - val_loss: 0.7169 - val_acc: 0.7538\n",
            "Epoch 17/100\n",
            "50000/50000 [==============================] - 31s 618us/step - loss: 0.6947 - acc: 0.7556 - val_loss: 0.7121 - val_acc: 0.7544\n",
            "Epoch 18/100\n",
            "50000/50000 [==============================] - 31s 619us/step - loss: 0.6688 - acc: 0.7661 - val_loss: 0.6829 - val_acc: 0.7591\n",
            "Epoch 19/100\n",
            "50000/50000 [==============================] - 31s 619us/step - loss: 0.6485 - acc: 0.7732 - val_loss: 0.6828 - val_acc: 0.7628\n",
            "Epoch 20/100\n",
            "50000/50000 [==============================] - 31s 618us/step - loss: 0.6322 - acc: 0.7803 - val_loss: 0.6561 - val_acc: 0.7716\n",
            "Epoch 21/100\n",
            "50000/50000 [==============================] - 31s 621us/step - loss: 0.6112 - acc: 0.7868 - val_loss: 0.6497 - val_acc: 0.7760\n",
            "Epoch 22/100\n",
            "50000/50000 [==============================] - 31s 624us/step - loss: 0.5918 - acc: 0.7931 - val_loss: 0.6435 - val_acc: 0.7774\n",
            "Epoch 23/100\n",
            "50000/50000 [==============================] - 31s 630us/step - loss: 0.5793 - acc: 0.7972 - val_loss: 0.6343 - val_acc: 0.7797\n",
            "Epoch 24/100\n",
            "50000/50000 [==============================] - 31s 623us/step - loss: 0.5669 - acc: 0.8033 - val_loss: 0.6323 - val_acc: 0.7813\n",
            "Epoch 25/100\n",
            "50000/50000 [==============================] - 32s 633us/step - loss: 0.5476 - acc: 0.8088 - val_loss: 0.6124 - val_acc: 0.7866\n",
            "Epoch 26/100\n",
            "50000/50000 [==============================] - 32s 637us/step - loss: 0.5373 - acc: 0.8123 - val_loss: 0.6451 - val_acc: 0.7791\n",
            "Epoch 27/100\n",
            "50000/50000 [==============================] - 32s 636us/step - loss: 0.5233 - acc: 0.8159 - val_loss: 0.6052 - val_acc: 0.7929\n",
            "Epoch 28/100\n",
            "50000/50000 [==============================] - 32s 635us/step - loss: 0.5082 - acc: 0.8225 - val_loss: 0.6162 - val_acc: 0.7913\n",
            "Epoch 29/100\n",
            "50000/50000 [==============================] - 32s 637us/step - loss: 0.4948 - acc: 0.8244 - val_loss: 0.5903 - val_acc: 0.7959\n",
            "Epoch 30/100\n",
            "50000/50000 [==============================] - 32s 636us/step - loss: 0.4823 - acc: 0.8305 - val_loss: 0.6053 - val_acc: 0.7916\n",
            "Epoch 31/100\n",
            "50000/50000 [==============================] - 32s 635us/step - loss: 0.4713 - acc: 0.8336 - val_loss: 0.6254 - val_acc: 0.7893\n",
            "Epoch 32/100\n",
            "50000/50000 [==============================] - 32s 636us/step - loss: 0.4595 - acc: 0.8399 - val_loss: 0.5850 - val_acc: 0.7977\n",
            "Epoch 33/100\n",
            "50000/50000 [==============================] - 32s 637us/step - loss: 0.4463 - acc: 0.8441 - val_loss: 0.5986 - val_acc: 0.7964\n",
            "Epoch 34/100\n",
            "50000/50000 [==============================] - 32s 646us/step - loss: 0.4356 - acc: 0.8459 - val_loss: 0.6012 - val_acc: 0.7979\n",
            "Epoch 35/100\n",
            "50000/50000 [==============================] - 31s 621us/step - loss: 0.4279 - acc: 0.8495 - val_loss: 0.5935 - val_acc: 0.7971\n",
            "Epoch 36/100\n",
            "50000/50000 [==============================] - 32s 634us/step - loss: 0.4172 - acc: 0.8524 - val_loss: 0.5789 - val_acc: 0.8014\n",
            "Epoch 37/100\n",
            "50000/50000 [==============================] - 31s 627us/step - loss: 0.4026 - acc: 0.8565 - val_loss: 0.5828 - val_acc: 0.8062\n",
            "Epoch 38/100\n",
            "50000/50000 [==============================] - 31s 623us/step - loss: 0.3987 - acc: 0.8599 - val_loss: 0.5774 - val_acc: 0.8079\n",
            "Epoch 39/100\n",
            "50000/50000 [==============================] - 31s 625us/step - loss: 0.3893 - acc: 0.8620 - val_loss: 0.5821 - val_acc: 0.8027\n",
            "Epoch 40/100\n",
            "50000/50000 [==============================] - 31s 617us/step - loss: 0.3786 - acc: 0.8656 - val_loss: 0.5906 - val_acc: 0.8018\n",
            "Epoch 41/100\n",
            "50000/50000 [==============================] - 31s 622us/step - loss: 0.3675 - acc: 0.8697 - val_loss: 0.5928 - val_acc: 0.8045\n",
            "Epoch 42/100\n",
            "50000/50000 [==============================] - 31s 625us/step - loss: 0.3610 - acc: 0.8729 - val_loss: 0.5804 - val_acc: 0.8049\n",
            "Epoch 43/100\n",
            "50000/50000 [==============================] - 31s 623us/step - loss: 0.3519 - acc: 0.8746 - val_loss: 0.5728 - val_acc: 0.8084\n",
            "Epoch 44/100\n",
            "50000/50000 [==============================] - 31s 618us/step - loss: 0.3460 - acc: 0.8755 - val_loss: 0.5778 - val_acc: 0.8095\n",
            "Epoch 45/100\n",
            "50000/50000 [==============================] - 31s 623us/step - loss: 0.3337 - acc: 0.8825 - val_loss: 0.5768 - val_acc: 0.8061\n",
            "Epoch 46/100\n",
            "50000/50000 [==============================] - 31s 621us/step - loss: 0.3298 - acc: 0.8828 - val_loss: 0.5888 - val_acc: 0.8070\n",
            "Epoch 47/100\n",
            "50000/50000 [==============================] - 31s 611us/step - loss: 0.3220 - acc: 0.8845 - val_loss: 0.5856 - val_acc: 0.8094\n",
            "Epoch 48/100\n",
            "50000/50000 [==============================] - 31s 611us/step - loss: 0.3156 - acc: 0.8874 - val_loss: 0.6057 - val_acc: 0.8045\n",
            "Epoch 49/100\n",
            "50000/50000 [==============================] - 30s 609us/step - loss: 0.3064 - acc: 0.8905 - val_loss: 0.5850 - val_acc: 0.8098\n",
            "Epoch 50/100\n",
            "50000/50000 [==============================] - 30s 608us/step - loss: 0.2987 - acc: 0.8938 - val_loss: 0.5837 - val_acc: 0.8121\n",
            "Epoch 51/100\n",
            "50000/50000 [==============================] - 31s 611us/step - loss: 0.2960 - acc: 0.8943 - val_loss: 0.5770 - val_acc: 0.8124\n",
            "Epoch 52/100\n",
            "50000/50000 [==============================] - 31s 614us/step - loss: 0.2883 - acc: 0.8972 - val_loss: 0.5878 - val_acc: 0.8114\n",
            "Epoch 53/100\n",
            "50000/50000 [==============================] - 30s 609us/step - loss: 0.2852 - acc: 0.8979 - val_loss: 0.5914 - val_acc: 0.8119\n",
            "Epoch 54/100\n",
            "50000/50000 [==============================] - 30s 606us/step - loss: 0.2769 - acc: 0.9020 - val_loss: 0.5896 - val_acc: 0.8125\n",
            "Epoch 55/100\n",
            "50000/50000 [==============================] - 30s 608us/step - loss: 0.2718 - acc: 0.9024 - val_loss: 0.5985 - val_acc: 0.8092\n",
            "Epoch 56/100\n",
            "50000/50000 [==============================] - 30s 605us/step - loss: 0.2650 - acc: 0.9059 - val_loss: 0.5931 - val_acc: 0.8142\n",
            "Epoch 57/100\n",
            "50000/50000 [==============================] - 30s 602us/step - loss: 0.2627 - acc: 0.9063 - val_loss: 0.6015 - val_acc: 0.8119\n",
            "Epoch 58/100\n",
            "50000/50000 [==============================] - 30s 604us/step - loss: 0.2561 - acc: 0.9081 - val_loss: 0.5958 - val_acc: 0.8108\n",
            "Epoch 59/100\n",
            "50000/50000 [==============================] - 30s 604us/step - loss: 0.2523 - acc: 0.9098 - val_loss: 0.5948 - val_acc: 0.8131\n",
            "Epoch 60/100\n",
            "50000/50000 [==============================] - 31s 611us/step - loss: 0.2494 - acc: 0.9105 - val_loss: 0.5940 - val_acc: 0.8126\n",
            "Epoch 61/100\n",
            "50000/50000 [==============================] - 30s 603us/step - loss: 0.2401 - acc: 0.9140 - val_loss: 0.6047 - val_acc: 0.8109\n",
            "Epoch 62/100\n",
            "50000/50000 [==============================] - 30s 606us/step - loss: 0.2356 - acc: 0.9144 - val_loss: 0.6181 - val_acc: 0.8100\n",
            "Epoch 63/100\n",
            "50000/50000 [==============================] - 31s 611us/step - loss: 0.2282 - acc: 0.9186 - val_loss: 0.6155 - val_acc: 0.8145\n",
            "Epoch 64/100\n",
            "50000/50000 [==============================] - 30s 609us/step - loss: 0.2278 - acc: 0.9176 - val_loss: 0.6290 - val_acc: 0.8106\n",
            "Epoch 65/100\n",
            "50000/50000 [==============================] - 30s 610us/step - loss: 0.2225 - acc: 0.9203 - val_loss: 0.6242 - val_acc: 0.8111\n",
            "Epoch 66/100\n",
            "50000/50000 [==============================] - 31s 610us/step - loss: 0.2189 - acc: 0.9211 - val_loss: 0.6167 - val_acc: 0.8165\n",
            "Epoch 67/100\n",
            "50000/50000 [==============================] - 31s 616us/step - loss: 0.2162 - acc: 0.9236 - val_loss: 0.6090 - val_acc: 0.8155\n",
            "Epoch 68/100\n",
            "50000/50000 [==============================] - 31s 617us/step - loss: 0.2088 - acc: 0.9251 - val_loss: 0.6200 - val_acc: 0.8126\n",
            "Epoch 69/100\n",
            "50000/50000 [==============================] - 31s 617us/step - loss: 0.2112 - acc: 0.9240 - val_loss: 0.6220 - val_acc: 0.8142\n",
            "Epoch 70/100\n",
            "50000/50000 [==============================] - 30s 606us/step - loss: 0.2078 - acc: 0.9248 - val_loss: 0.6490 - val_acc: 0.8149\n",
            "Epoch 71/100\n",
            "50000/50000 [==============================] - 30s 608us/step - loss: 0.2005 - acc: 0.9288 - val_loss: 0.6174 - val_acc: 0.8149\n",
            "Epoch 72/100\n",
            "50000/50000 [==============================] - 30s 605us/step - loss: 0.1976 - acc: 0.9292 - val_loss: 0.6086 - val_acc: 0.8179\n",
            "Epoch 73/100\n",
            "50000/50000 [==============================] - 30s 609us/step - loss: 0.1983 - acc: 0.9287 - val_loss: 0.6373 - val_acc: 0.8134\n",
            "Epoch 74/100\n",
            "50000/50000 [==============================] - 30s 606us/step - loss: 0.1916 - acc: 0.9311 - val_loss: 0.6311 - val_acc: 0.8125\n",
            "Epoch 75/100\n",
            "50000/50000 [==============================] - 30s 604us/step - loss: 0.1860 - acc: 0.9351 - val_loss: 0.6386 - val_acc: 0.8186\n",
            "Epoch 76/100\n",
            "50000/50000 [==============================] - 30s 606us/step - loss: 0.1847 - acc: 0.9347 - val_loss: 0.6356 - val_acc: 0.8149\n",
            "Epoch 77/100\n",
            "50000/50000 [==============================] - 30s 607us/step - loss: 0.1812 - acc: 0.9353 - val_loss: 0.6478 - val_acc: 0.8135\n",
            "Epoch 78/100\n",
            "50000/50000 [==============================] - 30s 607us/step - loss: 0.1815 - acc: 0.9356 - val_loss: 0.6439 - val_acc: 0.8123\n",
            "Epoch 79/100\n",
            "50000/50000 [==============================] - 30s 610us/step - loss: 0.1814 - acc: 0.9353 - val_loss: 0.6480 - val_acc: 0.8143\n",
            "Epoch 80/100\n",
            "50000/50000 [==============================] - 30s 606us/step - loss: 0.1739 - acc: 0.9385 - val_loss: 0.6543 - val_acc: 0.8188\n",
            "Epoch 81/100\n",
            "50000/50000 [==============================] - 30s 605us/step - loss: 0.1711 - acc: 0.9402 - val_loss: 0.6456 - val_acc: 0.8149\n",
            "Epoch 82/100\n",
            "50000/50000 [==============================] - 30s 609us/step - loss: 0.1709 - acc: 0.9400 - val_loss: 0.6496 - val_acc: 0.8139\n",
            "Epoch 83/100\n",
            "50000/50000 [==============================] - 30s 607us/step - loss: 0.1655 - acc: 0.9401 - val_loss: 0.6647 - val_acc: 0.8162\n",
            "Epoch 84/100\n",
            "50000/50000 [==============================] - 30s 608us/step - loss: 0.1643 - acc: 0.9407 - val_loss: 0.6673 - val_acc: 0.8138\n",
            "Epoch 85/100\n",
            "50000/50000 [==============================] - 30s 607us/step - loss: 0.1616 - acc: 0.9412 - val_loss: 0.6435 - val_acc: 0.8162\n",
            "Epoch 86/100\n",
            "50000/50000 [==============================] - 30s 605us/step - loss: 0.1604 - acc: 0.9441 - val_loss: 0.6633 - val_acc: 0.8187\n",
            "Epoch 87/100\n",
            "50000/50000 [==============================] - 30s 603us/step - loss: 0.1583 - acc: 0.9426 - val_loss: 0.6902 - val_acc: 0.8138\n",
            "Epoch 88/100\n",
            "50000/50000 [==============================] - 30s 596us/step - loss: 0.1564 - acc: 0.9427 - val_loss: 0.6433 - val_acc: 0.8180\n",
            "Epoch 89/100\n",
            "50000/50000 [==============================] - 30s 600us/step - loss: 0.1540 - acc: 0.9455 - val_loss: 0.6748 - val_acc: 0.8146\n",
            "Epoch 90/100\n",
            "50000/50000 [==============================] - 30s 600us/step - loss: 0.1538 - acc: 0.9445 - val_loss: 0.6791 - val_acc: 0.8136\n",
            "Epoch 91/100\n",
            "50000/50000 [==============================] - 30s 601us/step - loss: 0.1494 - acc: 0.9469 - val_loss: 0.6756 - val_acc: 0.8129\n",
            "Epoch 92/100\n",
            "50000/50000 [==============================] - 30s 599us/step - loss: 0.1512 - acc: 0.9471 - val_loss: 0.6760 - val_acc: 0.8170\n",
            "Epoch 93/100\n",
            "50000/50000 [==============================] - 30s 598us/step - loss: 0.1452 - acc: 0.9482 - val_loss: 0.6747 - val_acc: 0.8174\n",
            "Epoch 94/100\n",
            "50000/50000 [==============================] - 30s 600us/step - loss: 0.1495 - acc: 0.9470 - val_loss: 0.6690 - val_acc: 0.8171\n",
            "Epoch 95/100\n",
            "50000/50000 [==============================] - 30s 599us/step - loss: 0.1417 - acc: 0.9497 - val_loss: 0.6917 - val_acc: 0.8200\n",
            "Epoch 96/100\n",
            "50000/50000 [==============================] - 30s 599us/step - loss: 0.1427 - acc: 0.9491 - val_loss: 0.6778 - val_acc: 0.8156\n",
            "Epoch 97/100\n",
            "50000/50000 [==============================] - 30s 602us/step - loss: 0.1355 - acc: 0.9514 - val_loss: 0.6887 - val_acc: 0.8168\n",
            "Epoch 98/100\n",
            "50000/50000 [==============================] - 30s 605us/step - loss: 0.1364 - acc: 0.9515 - val_loss: 0.6810 - val_acc: 0.8174\n",
            "Epoch 99/100\n",
            "50000/50000 [==============================] - 30s 606us/step - loss: 0.1368 - acc: 0.9520 - val_loss: 0.6792 - val_acc: 0.8188\n",
            "Epoch 100/100\n",
            "50000/50000 [==============================] - 30s 603us/step - loss: 0.1378 - acc: 0.9518 - val_loss: 0.7136 - val_acc: 0.8116\n",
            "10000/10000 [==============================] - 2s 151us/step\n",
            "Loss: 0.714\n",
            "Accuracy: 0.812\n"
          ],
          "name": "stdout"
        }
      ]
    },
    {
      "metadata": {
        "id": "30lMTf95btqY",
        "colab_type": "text"
      },
      "cell_type": "markdown",
      "source": [
        "Our final accuracy was 81%, and our loss was 0.7, which is pretty good,\n",
        "\n",
        "To reiterate, accuracy is how well the model was able to classify each image, whille loss indicate how bad the model's predictions were.\n",
        "\n",
        "For more information, check out this defination of loss and accuracy on [Google\n",
        "s Machine Learning crash course](https://developers.google.com/machine-learning/crash-course/descending-into-ml/training-and-loss)"
      ]
    },
    {
      "metadata": {
        "id": "ulDRlAQQ4MKN",
        "colab_type": "text"
      },
      "cell_type": "markdown",
      "source": [
        "# Coverting the model to CoreML"
      ]
    },
    {
      "metadata": {
        "id": "WX6LUzj2KpWK",
        "colab_type": "text"
      },
      "cell_type": "markdown",
      "source": [
        "After we have trained the model, we can save the model, then convert into the coreML format.\n",
        "\n",
        "\n",
        "\n",
        "---\n",
        "\n",
        "First, we need to save the trained model"
      ]
    },
    {
      "metadata": {
        "id": "fxX-HW8OKu3q",
        "colab_type": "code",
        "colab": {}
      },
      "cell_type": "code",
      "source": [
        "model.save('cifar-model.h5')\n"
      ],
      "execution_count": 0,
      "outputs": []
    },
    {
      "metadata": {
        "id": "-H2PJ_FDK1SG",
        "colab_type": "text"
      },
      "cell_type": "markdown",
      "source": [
        "Next, we'll use CoremlTools to convert the model into a format that our Stitch app can use. \n",
        "\n",
        "First, we'll install coremltools, which will help us convert the model into something our IOS app can use.\n",
        "\n",
        "\n",
        "\n",
        "---\n",
        "\n",
        "Note, we use `pip` to install it, since were running on Collab. to run in locally, just add this package into your virtual enviroment\n",
        "\n"
      ]
    },
    {
      "metadata": {
        "id": "x8aN28emb73Q",
        "colab_type": "code",
        "colab": {
          "base_uri": "https://localhost:8080/",
          "height": 284
        },
        "outputId": "f8be9f64-a5c0-4aa7-ba65-10c5a15db2a5"
      },
      "cell_type": "code",
      "source": [
        "!pip install coremltools"
      ],
      "execution_count": 73,
      "outputs": [
        {
          "output_type": "stream",
          "text": [
            "Collecting coremltools\n",
            "\u001b[?25l  Downloading https://files.pythonhosted.org/packages/8f/ab/b4dea5ab2503f3e601052958985153cd41bd4f9a336fb74f6789151d976e/coremltools-0.8-py3.5-none-manylinux1_x86_64.whl (2.5MB)\n",
            "\u001b[K    100% |████████████████████████████████| 2.5MB 9.9MB/s \n",
            "\u001b[?25hRequirement already satisfied: protobuf>=3.1.0 in /usr/local/lib/python3.6/dist-packages (from coremltools) (3.6.0)\n",
            "Collecting six==1.10.0 (from coremltools)\n",
            "  Downloading https://files.pythonhosted.org/packages/c8/0a/b6723e1bc4c516cb687841499455a8505b44607ab535be01091c0f24f079/six-1.10.0-py2.py3-none-any.whl\n",
            "Requirement already satisfied: numpy>=1.10.0 in /usr/local/lib/python3.6/dist-packages (from coremltools) (1.14.5)\n",
            "Requirement already satisfied: setuptools in /usr/local/lib/python3.6/dist-packages (from protobuf>=3.1.0->coremltools) (39.1.0)\n",
            "Installing collected packages: six, coremltools\n",
            "  Found existing installation: six 1.11.0\n",
            "    Uninstalling six-1.11.0:\n",
            "      Successfully uninstalled six-1.11.0\n",
            "Successfully installed coremltools-0.8 six-1.10.0\n"
          ],
          "name": "stdout"
        }
      ]
    },
    {
      "metadata": {
        "id": "twPDKR6gcilU",
        "colab_type": "text"
      },
      "cell_type": "markdown",
      "source": [
        "\n",
        "Next, we'll  convert the saved model into CoreML. \n",
        "\n",
        "\n",
        "---\n",
        "\n",
        "Since we have used Keras to train our model, Its really easy to convert to CoreML. However, this varies based on how you built your model. CoreML tools has other functions to use for other machine learning packages including Tensorflow and Scikit Learn.  See the [coremltools repo](https://github.com/apple/coremltools) for more info.\n",
        "\n",
        "\n"
      ]
    },
    {
      "metadata": {
        "id": "2W71YwoxOts5",
        "colab_type": "code",
        "colab": {
          "base_uri": "https://localhost:8080/",
          "height": 306
        },
        "outputId": "e7e9bd88-cf92-4e21-a43a-f428ceaf5562"
      },
      "cell_type": "code",
      "source": [
        "from keras.models import load_model  \n",
        "import coremltools\n",
        "\n",
        "model = load_model('cifar-model.h5')\n",
        "coreml_model = coremltools.converters.keras.convert(model,\n",
        "\tinput_names=\"image\",\n",
        "\timage_input_names=\"image\",\n",
        "\timage_scale=1/255.0,\n",
        "\tclass_labels=class_names)\n",
        "\n",
        "coreml_model.save('CIFAR.mlmodel')"
      ],
      "execution_count": 83,
      "outputs": [
        {
          "output_type": "stream",
          "text": [
            "0 : conv2d_input, <keras.engine.topology.InputLayer object at 0x7fa7c829fac8>\n",
            "1 : conv2d, <keras.layers.convolutional.Conv2D object at 0x7fa7c829f358>\n",
            "2 : conv2d__activation__, <keras.layers.core.Activation object at 0x7fa7c75bf198>\n",
            "3 : conv2d_1, <keras.layers.convolutional.Conv2D object at 0x7fa7c80e40b8>\n",
            "4 : conv2d_1__activation__, <keras.layers.core.Activation object at 0x7fa7c75bf438>\n",
            "5 : max_pooling2d, <keras.layers.pooling.MaxPooling2D object at 0x7fa7c80e4550>\n",
            "6 : conv2d_2, <keras.layers.convolutional.Conv2D object at 0x7fa7c77434a8>\n",
            "7 : conv2d_2__activation__, <keras.layers.core.Activation object at 0x7fa7c73f9240>\n",
            "8 : max_pooling2d_1, <keras.layers.pooling.MaxPooling2D object at 0x7fa7c7743f28>\n",
            "9 : conv2d_3, <keras.layers.convolutional.Conv2D object at 0x7fa7c87ad1d0>\n",
            "10 : conv2d_3__activation__, <keras.layers.core.Activation object at 0x7fa7c7262dd8>\n",
            "11 : max_pooling2d_2, <keras.layers.pooling.MaxPooling2D object at 0x7fa7c7743f60>\n",
            "12 : flatten, <keras.layers.core.Flatten object at 0x7fa7c76fac50>\n",
            "13 : dense, <keras.layers.core.Dense object at 0x7fa7c76b42b0>\n",
            "14 : dense__activation__, <keras.layers.core.Activation object at 0x7fa7c71ff390>\n",
            "15 : dense_1, <keras.layers.core.Dense object at 0x7fa7c7670358>\n",
            "16 : dense_1__activation__, <keras.layers.core.Activation object at 0x7fa7c71ff898>\n"
          ],
          "name": "stdout"
        }
      ]
    },
    {
      "metadata": {
        "id": "7xOpPnaNcQpX",
        "colab_type": "text"
      },
      "cell_type": "markdown",
      "source": [
        "The output above shows all the layers inside the model. These directly correlate to how we created the model in this [cell](https://colab.research.google.com/drive/1KJ2PPzzbUjAo8SASpDcuiikBRNFl1VGV#scrollTo=mGv6JeG7YmZL&line=3&uniqifier=1)\n",
        "\n",
        "Take a look at the parameters for the `convert` function\n",
        "here, we'll set the input to be an `image` for both `input_names`  and `image_input_names` parameters. \n",
        "\n",
        "This will help the coreML model know what type of input it is expecting, which is an image.\n",
        "\n",
        "Then scale the images down in `image_scale` parameter.\n",
        "\n",
        "Next, we set the `class_labels`  to `class_names` list. \n",
        "When we use this model in Xcode, the result will be a `String`, corresponding the the predicted label of the image.\n",
        "\n",
        "\n",
        "---\n",
        "\n"
      ]
    },
    {
      "metadata": {
        "id": "HCq0x50-cwvk",
        "colab_type": "text"
      },
      "cell_type": "markdown",
      "source": [
        "Now, we can have a look at the CoreML model."
      ]
    },
    {
      "metadata": {
        "id": "NeeM4z1FO2aX",
        "colab_type": "code",
        "colab": {
          "base_uri": "https://localhost:8080/",
          "height": 493
        },
        "outputId": "7c46a945-a1c8-49c8-b1e9-3144f81c7b3b"
      },
      "cell_type": "code",
      "source": [
        "coreml_model"
      ],
      "execution_count": 84,
      "outputs": [
        {
          "output_type": "execute_result",
          "data": {
            "text/plain": [
              "input {\n",
              "  name: \"image\"\n",
              "  type {\n",
              "    imageType {\n",
              "      width: 32\n",
              "      height: 32\n",
              "      colorSpace: RGB\n",
              "    }\n",
              "  }\n",
              "}\n",
              "output {\n",
              "  name: \"output1\"\n",
              "  type {\n",
              "    dictionaryType {\n",
              "      stringKeyType {\n",
              "      }\n",
              "    }\n",
              "  }\n",
              "}\n",
              "output {\n",
              "  name: \"classLabel\"\n",
              "  type {\n",
              "    stringType {\n",
              "    }\n",
              "  }\n",
              "}\n",
              "predictedFeatureName: \"classLabel\"\n",
              "predictedProbabilitiesName: \"output1\""
            ]
          },
          "metadata": {
            "tags": []
          },
          "execution_count": 84
        }
      ]
    },
    {
      "metadata": {
        "id": "24GcMs_H5nSv",
        "colab_type": "text"
      },
      "cell_type": "markdown",
      "source": [
        "You can see that our `input` is a 32x32 image, and our output is a String, called `classLabel`\n",
        "\n",
        "Next, we save the mlmodel locally.\n",
        "If you are not using Google Collab, just use \n",
        "\n",
        "` %%writefile \"CIFAR.mlmodel\"`"
      ]
    },
    {
      "metadata": {
        "id": "suCKlGU9c2SD",
        "colab_type": "code",
        "colab": {}
      },
      "cell_type": "code",
      "source": [
        "from google.colab import files\n",
        "files.download('CIFAR.mlmodel')"
      ],
      "execution_count": 0,
      "outputs": []
    },
    {
      "metadata": {
        "id": "TrvJwoNxz2zf",
        "colab_type": "text"
      },
      "cell_type": "markdown",
      "source": [
        "# Incorporating the model into our Stitch app"
      ]
    },
    {
      "metadata": {
        "id": "OvjRUM-Sz9QT",
        "colab_type": "text"
      },
      "cell_type": "markdown",
      "source": [
        "Once our model is saved, we can now import it into our app. \n",
        "To do this, just drag the model that was just saved into xcode.\n",
        "\n",
        "Make sure the model is included in the target by verifing that \n",
        "`Target Membership` is selected"
      ]
    },
    {
      "metadata": {
        "id": "pqdRN3k18NW6",
        "colab_type": "text"
      },
      "cell_type": "markdown",
      "source": [
        "Next, we'll write the code that will use the model. "
      ]
    },
    {
      "metadata": {
        "id": "xmzCaPKZDVFb",
        "colab_type": "text"
      },
      "cell_type": "markdown",
      "source": [
        "In our Stitch Demo Application, Users' are able to upload a photo into a existing Conversation.\n",
        "\n",
        "For this sample, we use try to predict the photo that the user uploaded.\n",
        "\n",
        "Below is the Swift code inside of our \n",
        "\n",
        "```\n",
        "tableView(_ tableView: UITableView, cellForRowAt indexPath: IndexPath)\n",
        "```\n",
        "function.\n",
        "which is located [here](https://github.com/Nexmo/Stitch-Sample-App/blob/ea6e5af6dcca15a3917657079e9d67decdb904c4/Stitch-Demo/ChatTableViewController.swift#L255)\n",
        "\n",
        "---\n",
        "\n",
        "\n",
        "\n",
        "Note, we instantiate the model using \n",
        " \n",
        "```\n",
        "let model = CIFAR()\n",
        "```\n",
        "\n",
        "This is go in the `ViewDidLoad` method in our class\n",
        "\n",
        "\n",
        "\n"
      ]
    },
    {
      "metadata": {
        "id": "Zryev3Zme47A",
        "colab_type": "text"
      },
      "cell_type": "markdown",
      "source": [
        "Now, lets add the code."
      ]
    },
    {
      "metadata": {
        "id": "dVjhndIQEUri",
        "colab_type": "code",
        "colab": {}
      },
      "cell_type": "code",
      "source": [
        "let imageEvent = (event as! ImageEvent)\n",
        "guard let imagePath = imageEvent.path(of: IPS.ImageType.thumbnail), let image = UIImage(contentsOfFile: imagePath) else {\n",
        "    break\n",
        "}\n",
        "\n",
        "cell.imageView?.image = image\n",
        "\n",
        "#convert the image to a pixelBuffer\n",
        "#using https://github.com/hollance/CoreMLHelpers.git\n",
        "if let pixelBuffer = image.pixelBuffer(width: 32, height: 32) {\n",
        "    #initalize the model with the pixelBuffer\n",
        "    let input = CIFARInput(image: pixelBuffer)\n",
        "    \n",
        "    #perform the prediction\n",
        "    if let output = try? model.prediction(input: input)  {\n",
        "        #outut returns `classLabel` which is the label of the photo\n",
        "        cell.textLabel?.text = (imageEvent.from?.name)! + \" uploaded a photo of a \\(output.classLabel)\"\n",
        "    }\n",
        "    else {\n",
        "        #we could not get a prediction, just use generic text\n",
        "        cell.textLabel?.text = (imageEvent.from?.name)! + \" uploaded a photo\"\n",
        "    }\n",
        "}\n"
      ],
      "execution_count": 0,
      "outputs": []
    },
    {
      "metadata": {
        "id": "KWL94P0iEZAw",
        "colab_type": "text"
      },
      "cell_type": "markdown",
      "source": [
        "Here, we check if the Conversation Event is an `ImageEvent` \n",
        "If so, we load the thumbnail and set cell's `imageView` to that image\n",
        "\n",
        "Then, we take the image, convert it to a `PixelBuffer`, at a size of 32x32 then, feed it into the model.\n",
        "The reason why we have to resample the image is because the model is trained on images of 32x32, so if we don't resize the images, the model won't be able to give a prediction (We'll see an error in xcode saying that the image size is incorrect)\n",
        "\n",
        "The model will then return a classLabel. This will be the name of the image that the model predicted, which could be one of the following lables\n",
        "\"airplane\", \"automobile\", \"bird\", \"cat\",\" deer\", \"dog\", \"frog\", \"horse\", \"ship\" or \"truck\""
      ]
    },
    {
      "metadata": {
        "id": "J-XCbGg8Kqhe",
        "colab_type": "text"
      },
      "cell_type": "markdown",
      "source": [
        "# Where do we go from here"
      ]
    },
    {
      "metadata": {
        "id": "WWC6-742KuTv",
        "colab_type": "text"
      },
      "cell_type": "markdown",
      "source": [
        "After looking at our predictions, we can tell that the model will only be able to reconized only 10 labels. \n",
        "\n",
        "This is good for a demo, but not for a production example.\n",
        "\n",
        "In a future post, we'll look at building an image reconition model with more data. \n",
        "\n",
        "We'll look into the popular [ImageNet database](http://www.image-net.org),  which contains 14,197,122 labeled images.\n",
        "Its 150gb download, so, we'll look at how to download it, train, and intergrate into our Stitch demo app."
      ]
    }
  ]
}